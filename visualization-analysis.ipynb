{
 "cells": [
  {
   "cell_type": "code",
   "execution_count": 787,
   "metadata": {
    "ExecuteTime": {
     "end_time": "2022-09-29T10:27:39.609205Z",
     "start_time": "2022-09-29T10:27:39.541252Z"
    }
   },
   "outputs": [
    {
     "data": {
      "text/html": [
       "<style>\n",
       "div.container#notebook-container {width: 1300px}\n",
       "</style>\n"
      ],
      "text/plain": [
       "<IPython.core.display.HTML object>"
      ]
     },
     "metadata": {},
     "output_type": "display_data"
    }
   ],
   "source": [
    "%%html\n",
    "<style>\n",
    "div.container#notebook-container {width: 1300px}\n",
    "</style>"
   ]
  },
  {
   "cell_type": "markdown",
   "metadata": {},
   "source": [
    "# Import stuff"
   ]
  },
  {
   "cell_type": "code",
   "execution_count": 2,
   "metadata": {
    "ExecuteTime": {
     "end_time": "2022-10-17T02:46:40.039903Z",
     "start_time": "2022-10-17T02:46:39.944041Z"
    },
    "code_folding": [],
    "scrolled": false
   },
   "outputs": [
    {
     "name": "stdout",
     "output_type": "stream",
     "text": [
      "The autoreload extension is already loaded. To reload it, use:\n",
      "  %reload_ext autoreload\n"
     ]
    }
   ],
   "source": [
    "%load_ext autoreload\n",
    "%autoreload 2\n",
    "\n",
    "import matplotlib.pyplot as plt\n",
    "import matplotlib.gridspec as gridspec\n",
    "import matplotlib\n",
    "\n",
    "matplotlib.use(\"Cairo\")  # alternatives: nbAgg\n",
    "%matplotlib inline\n",
    "# %matplotlib notebook\n",
    "from matplotlib import rcParams\n",
    "\n",
    "rcParams[\"font.family\"] = \"sans-serif\"\n",
    "rcParams['font.sans-serif'] = ['DejaVu Sans Mono']\n",
    "rcParams[\"pdf.fonttype\"] = 42\n",
    "rcParams[\"ps.fonttype\"] = 42\n",
    "# plt.style.use('default')\n",
    "\n",
    "import seaborn\n",
    "from tqdm.auto import tqdm\n",
    "from multiprocessing import Pool, RLock, freeze_support\n",
    "\n",
    "import time\n",
    "import datetime\n",
    "import pandas as pd\n",
    "from pandas.plotting import register_matplotlib_converters\n",
    "\n",
    "register_matplotlib_converters()\n",
    "import os\n",
    "import re\n",
    "import numpy as np\n",
    "import random\n",
    "import networkx as nx\n",
    "import pickle\n",
    "\n",
    "freeze_support()  # for Windows support\n",
    "tqdm.set_lock(RLock())  # for managing output contention\n",
    "\n",
    "# Import data load and process functions\n",
    "from main_dycause_mp_new import dycause_causal_discover\n",
    "import utility_funcs.data_load_funcs as data_funcs\n",
    "\n",
    "# Import data and graph plot functions\n",
    "import utility_funcs.graph_draw as gd\n",
    "\n",
    "# Import modified interval process functions\n",
    "import dycause_lib.method_improves as meth_imp\n",
    "\n",
    "# Import root cause analysis functions\n",
    "from dycause_lib.rca import analyze_root, normalize_by_column, search_path, bfs, case_rca_backtrace\n",
    "from utility_funcs.evaluation_function import pr_stat, print_prk_acc, my_acc\n",
    "import utility_funcs.exp_result_analyze as exp_ana"
   ]
  },
  {
   "cell_type": "markdown",
   "metadata": {},
   "source": [
    "## Domain Knowledge"
   ]
  },
  {
   "cell_type": "code",
   "execution_count": 3,
   "metadata": {
    "ExecuteTime": {
     "end_time": "2022-10-17T02:46:42.476695Z",
     "start_time": "2022-10-17T02:46:42.430973Z"
    }
   },
   "outputs": [],
   "source": [
    "#------------- Domain Knowledge --------------------------------------\n",
    "only_source_cols = ['inBytes', 'inMulticast', 'inPackets',\n",
    "                    'tcpPkgInsegs', 'udpInDatagrams']\n",
    "only_target_cols = ['outBytes', 'outPackets',\n",
    "                    'tcpPkgOutsegs', 'tcpPkgRetranssegs',\n",
    "                    'udpOutDatagrams']\n",
    "\n",
    "def get_only_source_target_idx(only_source_cols, only_target_cols, col_list):\n",
    "    def find_match_ind(simple_column):\n",
    "        for i, c in enumerate(col_list):\n",
    "            if gd.remove_parenthesis(c) == simple_column:\n",
    "                return i\n",
    "#         assert False, f'Column {simple_column} not found in col_list!'\n",
    "        return -1\n",
    "    source_ids = [find_match_ind(i) for i in only_source_cols]\n",
    "    source_ids = [i for i in source_ids if i!=-1]\n",
    "    target_ids = [find_match_ind(i) for i in only_target_cols]\n",
    "    target_ids = [i for i in target_ids if i != -1]\n",
    "    return source_ids, target_ids"
   ]
  },
  {
   "cell_type": "markdown",
   "metadata": {},
   "source": [
    "## Graph Drawing Column Sets"
   ]
  },
  {
   "cell_type": "code",
   "execution_count": 22,
   "metadata": {
    "ExecuteTime": {
     "end_time": "2022-10-17T03:11:33.172886Z",
     "start_time": "2022-10-17T03:11:33.074797Z"
    },
    "code_folding": [
     17,
     39
    ],
    "scrolled": true
   },
   "outputs": [],
   "source": [
    "#--------- Case 1,2,5,6 Net & Runtime Metrics ----------\n",
    "all_columns_d_1 = {\n",
    "    'eth0': ['(iface=eth0)inPackets', '(iface=eth0)inPercent', '(iface=eth0)inMulticast', \n",
    "             '(iface=eth0)outPercent', '(iface=eth0)outPackets',\n",
    "             '(iface=eth0)totalBytes', '(iface=eth0)totalPackets'],\n",
    "    'cpu': ['busy', 'iowait', 'softirq', 'nice', 'system', 'user', 'switches'], \n",
    "    'kernel': ['kernelFilesAllocated'], \n",
    "    'load': ['load1', 'load5'],\n",
    "    'memory': ['memBuffers', 'memCached', 'memShmem', 'memUsedPercent', 'memAvailablePercent'], \n",
    "    'tcp': ['retrans', 'tcpAbortOnTimeout', 'tcpDelayedACKLocked', 'tcpLostRetransmit', 'tcpPkgInsegs', 'tcpPkgOutsegs',\n",
    "    'tcpPkgRetranssegs', 'tcpTW'],\n",
    "    'socket': ['ssClosed', 'ssEstab', 'ssOrphaned', 'ssTimeWait'],\n",
    "    'udp': ['udpInDatagrams', 'udpNoPorts', 'udpOutDatagrams', 'udpIgnoreMulti_Diff']\n",
    "}\n",
    "# --------- Case 7 all_columns\n",
    "all_columns_d_3 = {\n",
    "    \"eth0\": [\n",
    "        \"(iface=eth0)inPercent\",\n",
    "        \"(iface=eth0)inPackets\",\n",
    "        \"(iface=eth0)outPercent\",\n",
    "        \"(iface=eth0)outPackets\",\n",
    "        \"(iface=eth0)totalBytes\",\n",
    "        \"(iface=eth0)totalPackets\",\n",
    "    ],\n",
    "    \"cpu\": [\"busy\", \"iowait\", \"softirq\", \"system\", \"user\", \"switches\"],\n",
    "    \"kernel\": [\"kernelFilesAllocated\"],\n",
    "    \"load\": [\"load1\", \"load5\"],\n",
    "    \"memory\": [\"memBuffers\", \"memCached\", \"memShmem\", \"memUsedPercent\", \"memAvailablePercent\"],\n",
    "    \"tcp\": [\n",
    "        \"retrans\",\n",
    "        \"tcpAbortOnTimeout\",\n",
    "        \"tcpDelayedACKLocked\",\n",
    "        \"tcpPkgInsegs\",\n",
    "        \"tcpPkgOutsegs\",\n",
    "        \"tcpTW\",\n",
    "    ],\n",
    "    \"socket\": [\"ssClosed\", \"ssEstab\", \"ssOrphaned\", \"ssTimeWait\"],\n",
    "    \"udp\": [\"udpInDatagrams\", \"udpNoPorts\", \"udpOutDatagrams\", \"udpIgnoreMulti_Diff\"],\n",
    "    \"disk\": [\n",
    "        \"(mount=/data00)df.statistics.used.percent\",\n",
    "        \"(mount=/data00)df.statistics.used\",\n",
    "        \"(mount=/data00)df.statistics.total\",\n",
    "        \"(mount=/data00)df.inodes.free.percent\",\n",
    "        \"(mount=/data00)df.bytes.free.percent\",\n",
    "        \"(mount=/)df.statistics.used.percent\",\n",
    "        \"(mount=/)df.statistics.used\",\n",
    "        \"(mount=/)df.statistics.total\",\n",
    "        \"(mount=/)df.bytes.free.percent\",\n",
    "    ],\n",
    "    \"diskio\": [\n",
    "        \"(device=sda)disk.io.write\",\n",
    "        \"(device=sda)disk.io.w_wait\",\n",
    "        \"(device=sda)disk.io.util\",\n",
    "        \"(device=sda)disk.io.read\",\n",
    "        \"(device=sda)disk.io.await\",\n",
    "        \"(device=sda)disk.io.read_bytes_Diff\",\n",
    "        \"(device=sda)disk.io.write_bytes_Diff\",\n",
    "        \"(device=sdb)disk.io.write\",\n",
    "        \"(device=sdb)disk.io.w_wait\",\n",
    "        \"(device=sdb)disk.io.util\",\n",
    "        \"(device=sdb)disk.io.read\",\n",
    "        \"(device=sdb)disk.io.await\",\n",
    "        \"(device=sdb)disk.io.read_bytes_Diff\",\n",
    "        \"(device=sdb)disk.io.write_bytes_Diff\",\n",
    "    ],\n",
    "}\n",
    "\n",
    "columns_by_case = {}\n",
    "color_info_by_case = {}\n",
    "\n",
    "def extract_cols(d):\n",
    "    all_columns = []\n",
    "    for k, v in d.items():\n",
    "        all_columns += sorted(v)\n",
    "    return all_columns\n",
    "columns_by_case['case1'] = extract_cols(all_columns_d_1)\n",
    "color_info_by_case['case1'] = gd.get_node_colors(all_columns_d_1, columns_by_case['case1'])\n",
    "\n",
    "\n",
    "columns_by_case['case7'] = extract_cols(all_columns_d_3)\n",
    "color_info_by_case['case7'] = gd.get_node_colors(all_columns_d_3, columns_by_case['case7'])"
   ]
  },
  {
   "cell_type": "markdown",
   "metadata": {},
   "source": [
    "### SRE Labelled Edges"
   ]
  },
  {
   "cell_type": "code",
   "execution_count": 1051,
   "metadata": {
    "ExecuteTime": {
     "end_time": "2022-10-10T09:10:00.743489Z",
     "start_time": "2022-10-10T09:10:00.670516Z"
    }
   },
   "outputs": [
    {
     "name": "stdout",
     "output_type": "stream",
     "text": [
      "(iface=eth0)outBytes\n",
      "(iface=eth0)inBytes\n"
     ]
    }
   ],
   "source": [
    "case1to6_correct_edges = [\n",
    "    ('ssTimeWait',  'tcpTW'),\n",
    "    ('ssClosed', 'tcpTW'),\n",
    "    ('(iface=eth0)totalPackets', '(iface=eth0)outPackets'),\n",
    "    ('(iface=eth0)inPackets', '(iface=eth0)totalBytes'),\n",
    "    ('(iface=eth0)inPackets', '(iface=eth0)totalPackets'),\n",
    "    ('(iface=eth0)totalPackets', '(iface=eth0)outBytes'), ('(iface=eth0)totalPackets', '(iface=eth0)outPackets'), ('(iface=eth0)totalPackets', '(iface=eth0)outPercent'),\n",
    "    ('tcpTW', 'ssTimeWait'),\n",
    "    ('tcpDelayedACKLocked', 'load5'),\n",
    "    ('retrans', 'tcpPkgRetranssegs'),\n",
    "    ('memBuffers', 'memAvailablePercent'),\n",
    "    ('load5', 'tcpDelayedACKLocked'),\n",
    "    ('tcpTW', 'ssClosed')\n",
    "]\n",
    "case1_correct_edges = [\n",
    "    ('(iface=eth0)totalPackets', '(iface=eth0)outPackets'),\n",
    "    ('(iface=eth0)totalPackets', 'tcpPkgOutsegs'),\n",
    "    ('ssClosed', 'tcpTW'),\n",
    "\n",
    "]\n",
    "case1to6_wrong_edges = [\n",
    "    ('switches', 'udpOutDatagrams'),\n",
    "    ('memBuffers', '(iface=eth0)inPercent'),\n",
    "    ('ssEstab', 'udpOutDatagrams'),\n",
    "    ('memBuffers', '(iface=eth0)totalPackets'),\n",
    "    ('(iface=eth0)totalPackets', 'tcpTW'),\n",
    "    ('(iface=eth0)inPercent', 'memBuffers'),\n",
    "    ('(iface=eth0)inBytes', 'memBuffers'), ('(iface=eth0)inPackets', 'memBuffers'), ('(iface=eth0)inPercent', 'memBuffers'),\n",
    "    ('tcpPkgInsegs', 'memBuffers'),\n",
    "    ('udpInDatagrams', 'memBuffers'),\n",
    "    ('memBuffers', 'udpOutDatagrams')\n",
    "]\n",
    "case1_wrong_edges = [\n",
    "    ('busy', 'iowait'),\n",
    "    ('iowait', 'busy'),\n",
    "    ('system', 'switches'),\n",
    "    ('memUsedPercent', 'ssClosed'),\n",
    "    ('switches', 'user'),\n",
    "    ('nice', 'tcpAbortOnTimeout'),\n",
    "    ('memUsedPercent', 'ssTimeWait')\n",
    "]\n",
    "for t in case1to6_correct_edges+case1_correct_edges+case1to6_wrong_edges+case1_wrong_edges:\n",
    "    for n in t:\n",
    "        if n not in columns_by_case['case1']:\n",
    "            print(n)"
   ]
  },
  {
   "cell_type": "markdown",
   "metadata": {},
   "source": [
    "## Case 1"
   ]
  },
  {
   "cell_type": "code",
   "execution_count": 21,
   "metadata": {
    "ExecuteTime": {
     "end_time": "2022-10-17T03:07:36.879066Z",
     "start_time": "2022-10-17T03:07:36.831051Z"
    },
    "code_folding": []
   },
   "outputs": [],
   "source": [
    "data_out_dir = \"sample_data/case1\"\n",
    "plot_out_dir = 'plot_out_dir'"
   ]
  },
  {
   "cell_type": "markdown",
   "metadata": {},
   "source": [
    "### Case 1 Direction Hints of History Metrics"
   ]
  },
  {
   "cell_type": "code",
   "execution_count": 10,
   "metadata": {
    "ExecuteTime": {
     "end_time": "2022-10-17T02:51:31.859682Z",
     "start_time": "2022-10-17T02:51:30.443942Z"
    }
   },
   "outputs": [
    {
     "name": "stdout",
     "output_type": "stream",
     "text": [
      "Num of nonzeros: 350, min=0.0, max=3158.0\n",
      "Num of nonzeros: 350, min=0.0, max=3096.0\n",
      "Num of nonzeros: 350, min=0.0, max=3247.0\n",
      "Num of nonzeros: 350, min=0.0, max=3125.0\n",
      "Num of nonzeros: 350, min=0.0, max=2827.0\n",
      "Num of nonzeros: 350, min=0.0, max=2798.0\n",
      "Num of nonzeros: 350, min=0.0, max=3247.0\n",
      "Num of nonzeros: 350, min=0.0, max=2434.0\n"
     ]
    }
   ],
   "source": [
    "def calc_mat_sim_diff(mat_list):\n",
    "\n",
    "    bmat_list = [mat > 0 for mat in mat_list]\n",
    "    base = bmat_list[0]\n",
    "    n_sim_l = []\n",
    "    n_diff_l = []\n",
    "    for bmat in bmat_list[1:]:\n",
    "        n_sim = float(np.sum(bmat & base))\n",
    "        n_sim_l.append(n_sim)\n",
    "        n_diff = float(np.sum(np.logical_xor(bmat, base)))\n",
    "        n_diff_l.append(n_diff)\n",
    "#         print(\"Num of same edges: {}, diff edges: {}, out of: {} edges.\".format(n_sim, n_diff, \n",
    "#                                                                                 np.prod(bmat.shape)))\n",
    "        base = bmat\n",
    "#     print(n_sim_l, n_diff_l)\n",
    "    return n_sim_l, n_diff_l\n",
    "\n",
    "sign = 0.1\n",
    "step = 30\n",
    "\n",
    "_df = pd.read_csv(os.path.join(data_out_dir, \"normal_df_seq\", f\"merged_df_7.csv\"),\n",
    "                                    index_col=0)\n",
    "_df.index = pd.to_datetime(_df.index)\n",
    "normal_profile_cols = list(_df.columns)\n",
    "\n",
    "\n",
    "    \n",
    "only_source_ids, only_target_ids = get_only_source_target_idx(only_source_cols, only_target_cols,\n",
    "                                             list(normal_profile_cols))\n",
    "\n",
    "\n",
    "\n",
    "n_sim_data = []\n",
    "n_diff_data = []\n",
    "for ntop in range(350, 400, 50):\n",
    "    mat_list = []\n",
    "    # ---- These temp files are the results of the algorithm 1 in the paper with\n",
    "    # ---- parameter: alpha=0.1, delta=30, p=8 on the sequential data sample_data/case1/normal_df_seq\n",
    "    for _ in ['exp_rets_20220304_195007.pkl',\n",
    "         'exp_rets_20220304_195108.pkl',\n",
    "         'exp_rets_20220304_195210.pkl',\n",
    "         'exp_rets_20220304_195311.pkl',\n",
    "         'exp_rets_20220304_195412.pkl',\n",
    "         'exp_rets_20220304_195513.pkl',\n",
    "         'exp_rets_20220304_195614.pkl',\n",
    "         'exp_rets_20220304_195716.pkl']:\n",
    "        fname = \"temp_results/\" + _\n",
    "        with open(fname, \"rb\") as f:\n",
    "            _exp_ret = pickle.load(f)\n",
    "\n",
    "        meth_imp.build_intervals_special(_exp_ret['local_results'], sign, _df.shape[0], step, _df.shape[1])\n",
    "        _exp_ret['dcc_special'] = meth_imp.generate_DCC(_exp_ret['local_results'], _df.shape[0], _df.shape[1], interval_key=\"intervals_special\")\n",
    "        hints = meth_imp.get_dir_hints_from_dcc(\n",
    "            _exp_ret[\"dcc\"], _df.shape[1], 250)\n",
    "        transition_matrix_special = meth_imp.global_thresholding(\n",
    "            _exp_ret['dcc'], _df.shape[1], normal_axis='none',\n",
    "            ntop=ntop,\n",
    "            hints=hints,\n",
    "            only_source_ids=only_source_ids,\n",
    "            only_target_ids=only_target_ids)\n",
    "        gd.mat_summary(transition_matrix_special)\n",
    "        mat_list.append(transition_matrix_special)\n",
    "        \n",
    "    n_sim_l, n_diff_l = calc_mat_sim_diff(mat_list)\n",
    "    n_sim_data.append(n_sim_l)\n",
    "    n_diff_data.append(n_diff_l)"
   ]
  },
  {
   "cell_type": "code",
   "execution_count": 14,
   "metadata": {
    "ExecuteTime": {
     "end_time": "2022-10-17T02:52:14.085955Z",
     "start_time": "2022-10-17T02:52:14.009584Z"
    },
    "scrolled": true
   },
   "outputs": [
    {
     "name": "stdout",
     "output_type": "stream",
     "text": [
      "(iface=eth0)inPackets     --> (iface=eth0)outPackets   \n",
      "(iface=eth0)inPackets     --> (iface=eth0)totalBytes   \n",
      "(iface=eth0)inPackets     --> ssEstab                  \n",
      "(iface=eth0)inPackets     --> switches                 \n",
      "(iface=eth0)inPackets     --> tcpPkgOutsegs            \n",
      "(iface=eth0)inPackets     --> udpOutDatagrams          \n",
      "(iface=eth0)totalPackets  --> ssEstab                  \n",
      "(iface=eth0)totalPackets  --> switches                 \n",
      "softirq                   --> switches                 \n",
      "tcpPkgInsegs              --> (iface=eth0)totalBytes   \n",
      "tcpPkgInsegs              --> ssEstab                  \n",
      "tcpPkgInsegs              --> switches                 \n"
     ]
    }
   ],
   "source": [
    "bmat_list = [mat > 0 for mat in mat_list]\n",
    "r = bmat_list[0]\n",
    "for bmat in bmat_list[1:]:\n",
    "    r = r & bmat\n",
    "xs, ys = np.nonzero(r)\n",
    "normal_profile_hints = sorted([(_[0], _[1], 0) for _ in list(zip(xs, ys))])\n",
    "\n",
    "\n",
    "def remove_dup_hints(hints):\n",
    "    hints = sorted(hints)\n",
    "    i = 0\n",
    "    r = [hints[0]]\n",
    "    for i in range(len(hints) - 1):\n",
    "        if hints[i + 1] == r[-1]:\n",
    "            continue\n",
    "        else:\n",
    "            r.append(hints[i + 1])\n",
    "    return r\n",
    "\n",
    "\n",
    "_data_idx_to_graph_idx, _graph_idx_to_data_idx = gd.construct_d2g_map_dict(\n",
    "    list(_df.columns), columns_by_case['case1'], print_info=False\n",
    ")\n",
    "normal_profile_hints_filtered = gd.filter_hints(\n",
    "    normal_profile_hints, _data_idx_to_graph_idx\n",
    ")\n",
    "for x, y, _ in normal_profile_hints_filtered:\n",
    "    #     print(f\"{x:<2}:{dycause_input.columns[x]:<25} --> {y:<2}:{dycause_input.columns[y]:<25}\")\n",
    "    print(f\"{columns_by_case['case1'][x]:<25} --> {columns_by_case['case1'][y]:<25}\")"
   ]
  },
  {
   "cell_type": "markdown",
   "metadata": {},
   "source": [
    "### Case 1 Host Evolution Diagram"
   ]
  },
  {
   "cell_type": "code",
   "execution_count": 39,
   "metadata": {
    "ExecuteTime": {
     "end_time": "2022-10-17T03:24:55.924089Z",
     "start_time": "2022-10-17T03:24:55.890432Z"
    },
    "code_folding": [
     2
    ]
   },
   "outputs": [],
   "source": [
    "# ---- These temp files are the results of the algorithm 1 in the paper with\n",
    "# ---- parameter: alpha=0.1, delta=30, p=8. The data is in sample_data/case1/anomaly_df_seq.\n",
    "# The exp_rets are calculated on the order of input dataframes.\n",
    "# Thus the time order is also reversed the same as input dataframes.\n",
    "case1_anomaly_seq_exp_rets = [\n",
    "]"
   ]
  },
  {
   "cell_type": "code",
   "execution_count": null,
   "metadata": {
    "ExecuteTime": {
     "end_time": "2022-10-17T03:06:25.797578Z",
     "start_time": "2022-10-17T03:06:16.245260Z"
    }
   },
   "outputs": [],
   "source": [
    "sign = 0.1\n",
    "step = 30\n",
    "list_mat_list = []\n",
    "for ntop in range(500, 550, 50):\n",
    "    mat_list = []\n",
    "    for i, fname in tqdm(enumerate(case1_anomaly_seq_exp_rets)):\n",
    "        with open('temp_results/' + fname, \"rb\") as f:\n",
    "            exp_ret = pickle.load(f)\n",
    "        _df = pd.read_csv(os.path.join(data_out_dir, \"anomaly_df_seq\", f\"df_{i}.csv\"),\n",
    "                                        index_col=0)\n",
    "        _df.index = pd.to_datetime(_df.index)\n",
    "        only_source_ids, only_target_ids = get_only_source_target_idx(only_source_cols, only_target_cols,\n",
    "                                                 list(_df.columns))\n",
    "\n",
    "        meth_imp.build_intervals_special(exp_ret['local_results'], sign, _df.shape[0], step, _df.shape[1])\n",
    "        exp_ret['dcc_special'] = meth_imp.generate_DCC(exp_ret['local_results'], _df.shape[0], _df.shape[1], \n",
    "                                                       interval_key=\"intervals_special\")\n",
    "        data_idx_to_graph_idx, graph_idx_to_data_idx = gd.construct_d2g_map_dict(list(_df.columns), \n",
    "                                                                  _df.columns)\n",
    "        filtered_df = gd.filter_df(_df, graph_idx_to_data_idx, len(_df.columns))\n",
    "        exp_ret[\"filtered_dcc\"] = gd.filter_dcc(exp_ret[\"dcc\"], len(_df.columns), graph_idx_to_data_idx)\n",
    "        exp_ret[\"filtered_dcc_special\"] = gd.filter_dcc(exp_ret[\"dcc_special\"], len(_df.columns), graph_idx_to_data_idx)\n",
    "        # hints from anomaly dcc\n",
    "        hints = meth_imp.get_dir_hints_from_dcc(exp_ret[\"filtered_dcc\"], len(_df.columns), 250)\n",
    "\n",
    "        o_s_ids, o_t_ids = get_only_source_target_idx(only_source_cols, only_target_cols,\n",
    "                                                     list(_df.columns))\n",
    "        # for ntop in [50]:\n",
    "        mat, candidates = meth_imp.global_thresholding(\n",
    "            exp_ret[\"filtered_dcc_special\"], len(_df.columns), normal_axis='none', \n",
    "            ntop=ntop, only_source_ids=o_s_ids,\n",
    "            only_target_ids=o_t_ids, \n",
    "            hints=hints,\n",
    "            return_candidates=True\n",
    "        )\n",
    "        exp_ret['mat'] = mat\n",
    "        exp_ret['candidates'] = candidates\n",
    "        corr_res_cond_shuffled, corr_res_cond = meth_imp.calculate_CMIknn_shuffled_mp(exp_ret['mat'], \n",
    "                                                                                      filtered_df.iloc[-120:, :], \n",
    "                                                                                      max_workers=10, verbose=True)\n",
    "        exp_ret['corr_res_cond_shuffled'] = corr_res_cond_shuffled\n",
    "        exp_ret['filtered_mat'] = meth_imp.cond_test_filtering(exp_ret['mat'], \n",
    "                                                               exp_ret['candidates'], exp_ret['corr_res_cond_shuffled'], \n",
    "                                                               0.5, lambda x, p: x > p)\n",
    "\n",
    "        mat_list.append(exp_ret['filtered_mat'])\n",
    "    list_mat_list.append(mat_list)"
   ]
  },
  {
   "cell_type": "code",
   "execution_count": 1185,
   "metadata": {
    "ExecuteTime": {
     "end_time": "2022-10-13T02:23:17.089910Z",
     "start_time": "2022-10-13T02:23:17.034898Z"
    }
   },
   "outputs": [
    {
     "name": "stdout",
     "output_type": "stream",
     "text": [
      "[[39.408117370149185, 30.7321022966214, 24.096575178195298, 31.40444596592436, 40.62074548633876, 56.882888144276436, 64.50116602274555, 64.33627829190783, 73.99297494290482, 66.26952970704116, 63.2361923807824, 51.27621888507579, 48.80642329020333, 41.62739106745385, 33.44636552812457, 43.671403067668564, 49.2604323899081, 42.425711384076585, 45.021622119236554, 53.031106173845146, 50.4391016354388, 43.21643534542434, 49.782888475652435, 43.160330385540206, 44.49383690960765, 45.67697457119317, 47.80744055064363, 36.11566042719883, 47.19468125664385, 29.959783946720535, 30.934339177648113, 33.57531713612702, 35.144620628299805, 25.74952561669829, 32.74694266845286, 27.184470593897156, 29.060871821148357, 26.940352537275636, 28.423295443661623, 34.55983913035779, 37.930810499610914, 24.7175086137067, 25.811758178999753, 28.84671976837581, 20.261609235367473, 21.561071862373268, 24.51147145318935, 17.04765014613679, 15.319660579004646, 22.108176575971335, 16.97864145658263, 25.380587851578987, 24.5632305404598, 29.41594384536087, 68.53271737503674]]\n"
     ]
    }
   ],
   "source": [
    "def calc_mat_sim_diff(mat_list):\n",
    "    n_sim_l = []\n",
    "    n_diff_l = []\n",
    "    for i in range(len(mat_list)-1):\n",
    "        m = (mat_list[i] > 0) & (mat_list[i+1] > 0)\n",
    "        w = (mat_list[i] + mat_list[i+1]) / 2.0\n",
    "        n_sim_l.append(float(np.sum(m * w)))\n",
    "        \n",
    "        # A, B is two matrices in time order\n",
    "        # m1: A has not, B has\n",
    "        n_diff = 0\n",
    "        m1 = np.logical_not(mat_list[i] > 0) & (mat_list[i+1] > 0)\n",
    "        w1 = mat_list[i+1]\n",
    "        n_diff += float(np.sum(m1 * w1))\n",
    "        # m2: A has, B has not\n",
    "        m2 = (mat_list[i] > 0) & np.logical_not(mat_list[i+1] > 0)\n",
    "        w2 = mat_list[i]\n",
    "        n_diff += float(np.sum(m2 * w2))\n",
    "        n_diff_l.append(n_diff)\n",
    "    return n_sim_l, n_diff_l\n",
    "\n",
    "n_sim_data = []\n",
    "n_diff_data = []\n",
    "for i in range(len(list_mat_list)):\n",
    "    mat_list = list_mat_list[i]\n",
    "    mat_list_ = []\n",
    "    for mat in mat_list:\n",
    "        mat_list_.append(mat / np.max(mat))\n",
    "    n_sim_l, n_diff_l = calc_mat_sim_diff(mat_list_)\n",
    "    n_sim_data.append(n_sim_l)\n",
    "    n_diff_data.append(n_diff_l)\n",
    "print(n_diff_data)"
   ]
  },
  {
   "cell_type": "code",
   "execution_count": null,
   "metadata": {
    "ExecuteTime": {
     "end_time": "2022-10-13T07:15:19.690711Z",
     "start_time": "2022-10-13T07:15:19.287517Z"
    }
   },
   "outputs": [],
   "source": [
    "matplotlib.use('nbagg')\n",
    "ntop_list = range(50, 550, 50)\n",
    "n_sim_data = np.array(n_sim_data)\n",
    "n_diff_data = np.array(n_diff_data)\n",
    "x = range(1, n_sim_data.shape[1]+1)\n",
    "fig = plt.figure(figsize=[10, 3])\n",
    "axs = fig.subplots(1, 1, sharex=True)\n",
    "for i in range(n_diff_data.shape[0]):\n",
    "    axs.plot(x, n_diff_data[i, :], color='k', label='$n_{graph}$' + '={}'.format(ntop_list[i]))\n",
    "axs.set_title('Difference')\n",
    "axs.grid(axis='both', color='gray')\n",
    "# axs.legend(loc='upper left', ncol=5)\n",
    "axs.set_xticks([0]+list(range(1, 56, 3))+[55])\n",
    "# plt.savefig(os.path.join(plot_out_dir, 'host_evolution_diagram.svg'))\n",
    "# plt.savefig(os.path.join(plot_out_dir, 'host_evolution_diagram.pdf'), transparent=True)\n",
    "plt.show()"
   ]
  },
  {
   "cell_type": "markdown",
   "metadata": {},
   "source": [
    "## Case 7"
   ]
  },
  {
   "cell_type": "code",
   "execution_count": 24,
   "metadata": {
    "ExecuteTime": {
     "end_time": "2022-10-17T03:15:56.497011Z",
     "start_time": "2022-10-17T03:15:56.447564Z"
    },
    "code_folding": []
   },
   "outputs": [],
   "source": [
    "data_out_dir = \"sample_data/case7\""
   ]
  },
  {
   "cell_type": "markdown",
   "metadata": {},
   "source": [
    "### Case 7 Graph"
   ]
  },
  {
   "cell_type": "code",
   "execution_count": 29,
   "metadata": {
    "ExecuteTime": {
     "end_time": "2022-10-17T03:21:53.672465Z",
     "start_time": "2022-10-17T03:21:41.178262Z"
    },
    "code_folding": [
     3
    ],
    "scrolled": true
   },
   "outputs": [
    {
     "name": "stderr",
     "output_type": "stream",
     "text": [
      "/workspace/asplos22-source-code/dycause_lib/Granger_all_code_pair.py:663: RuntimeWarning: invalid value encountered in double_scalars\n",
      "  res2djoint.ssr) / res2djoint.ssr / lag * res2djoint.df_resid\n",
      "/workspace/asplos22-source-code/dycause_lib/Granger_all_code_pair.py:804: RuntimeWarning: divide by zero encountered in double_scalars\n",
      "  1) * (res2djoint_df_resid) / lag\n",
      "/workspace/asplos22-source-code/dycause_lib/Granger_all_code_pair.py:663: RuntimeWarning: invalid value encountered in double_scalars\n",
      "  res2djoint.ssr) / res2djoint.ssr / lag * res2djoint.df_resid\n",
      "/workspace/asplos22-source-code/dycause_lib/Granger_all_code_pair.py:804: RuntimeWarning: divide by zero encountered in double_scalars\n",
      "  1) * (res2djoint_df_resid) / lag\n",
      "/workspace/asplos22-source-code/dycause_lib/Granger_all_code_pair.py:663: RuntimeWarning: invalid value encountered in double_scalars\n",
      "  res2djoint.ssr) / res2djoint.ssr / lag * res2djoint.df_resid\n",
      "/workspace/asplos22-source-code/dycause_lib/Granger_all_code_pair.py:804: RuntimeWarning: divide by zero encountered in double_scalars\n",
      "  1) * (res2djoint_df_resid) / lag\n",
      "/workspace/asplos22-source-code/dycause_lib/Granger_all_code_pair.py:663: RuntimeWarning: invalid value encountered in double_scalars\n",
      "  res2djoint.ssr) / res2djoint.ssr / lag * res2djoint.df_resid\n",
      "/workspace/asplos22-source-code/dycause_lib/Granger_all_code_pair.py:804: RuntimeWarning: divide by zero encountered in double_scalars\n",
      "  1) * (res2djoint_df_resid) / lag\n",
      "/mnt/hdd.data/effcause-env/lib/python3.7/site-packages/statsmodels/regression/linear_model.py:903: RuntimeWarning: divide by zero encountered in log\n",
      "  llf = -nobs2*np.log(2*np.pi) - nobs2*np.log(ssr / nobs) - nobs2\n",
      "/mnt/hdd.data/effcause-env/lib/python3.7/site-packages/statsmodels/regression/linear_model.py:903: RuntimeWarning: divide by zero encountered in log\n",
      "  llf = -nobs2*np.log(2*np.pi) - nobs2*np.log(ssr / nobs) - nobs2\n",
      "/mnt/hdd.data/effcause-env/lib/python3.7/site-packages/statsmodels/regression/linear_model.py:903: RuntimeWarning: divide by zero encountered in log\n",
      "  llf = -nobs2*np.log(2*np.pi) - nobs2*np.log(ssr / nobs) - nobs2\n",
      "/mnt/hdd.data/effcause-env/lib/python3.7/site-packages/statsmodels/regression/linear_model.py:903: RuntimeWarning: divide by zero encountered in log\n",
      "  llf = -nobs2*np.log(2*np.pi) - nobs2*np.log(ssr / nobs) - nobs2\n",
      "/mnt/hdd.data/effcause-env/lib/python3.7/site-packages/statsmodels/regression/linear_model.py:903: RuntimeWarning: divide by zero encountered in log\n",
      "  llf = -nobs2*np.log(2*np.pi) - nobs2*np.log(ssr / nobs) - nobs2\n",
      "/workspace/asplos22-source-code/dycause_lib/Granger_all_code_pair.py:663: RuntimeWarning: invalid value encountered in double_scalars\n",
      "  res2djoint.ssr) / res2djoint.ssr / lag * res2djoint.df_resid\n",
      "/workspace/asplos22-source-code/dycause_lib/Granger_all_code_pair.py:804: RuntimeWarning: invalid value encountered in double_scalars\n",
      "  1) * (res2djoint_df_resid) / lag\n",
      "/workspace/asplos22-source-code/dycause_lib/Granger_all_code_pair.py:824: RuntimeWarning: invalid value encountered in double_scalars\n",
      "  1) * (res2djoint_df_resid) / lag\n",
      "/workspace/asplos22-source-code/dycause_lib/Granger_all_code_pair.py:804: RuntimeWarning: divide by zero encountered in double_scalars\n",
      "  1) * (res2djoint_df_resid) / lag\n",
      "/workspace/asplos22-source-code/dycause_lib/Granger_all_code_pair.py:663: RuntimeWarning: invalid value encountered in double_scalars\n",
      "  res2djoint.ssr) / res2djoint.ssr / lag * res2djoint.df_resid\n",
      "/workspace/asplos22-source-code/dycause_lib/Granger_all_code_pair.py:804: RuntimeWarning: invalid value encountered in double_scalars\n",
      "  1) * (res2djoint_df_resid) / lag\n",
      "/workspace/asplos22-source-code/dycause_lib/Granger_all_code_pair.py:824: RuntimeWarning: invalid value encountered in double_scalars\n",
      "  1) * (res2djoint_df_resid) / lag\n",
      "/workspace/asplos22-source-code/dycause_lib/Granger_all_code_pair.py:663: RuntimeWarning: invalid value encountered in double_scalars\n",
      "  res2djoint.ssr) / res2djoint.ssr / lag * res2djoint.df_resid\n",
      "/workspace/asplos22-source-code/dycause_lib/Granger_all_code_pair.py:804: RuntimeWarning: invalid value encountered in double_scalars\n",
      "  1) * (res2djoint_df_resid) / lag\n",
      "/workspace/asplos22-source-code/dycause_lib/Granger_all_code_pair.py:824: RuntimeWarning: invalid value encountered in double_scalars\n",
      "  1) * (res2djoint_df_resid) / lag\n",
      "/workspace/asplos22-source-code/dycause_lib/Granger_all_code_pair.py:804: RuntimeWarning: divide by zero encountered in double_scalars\n",
      "  1) * (res2djoint_df_resid) / lag\n",
      "/workspace/asplos22-source-code/dycause_lib/Granger_all_code_pair.py:804: RuntimeWarning: divide by zero encountered in double_scalars\n",
      "  1) * (res2djoint_df_resid) / lag\n",
      "/workspace/asplos22-source-code/dycause_lib/Granger_all_code_pair.py:663: RuntimeWarning: invalid value encountered in double_scalars\n",
      "  res2djoint.ssr) / res2djoint.ssr / lag * res2djoint.df_resid\n",
      "/workspace/asplos22-source-code/dycause_lib/Granger_all_code_pair.py:804: RuntimeWarning: divide by zero encountered in double_scalars\n",
      "  1) * (res2djoint_df_resid) / lag\n",
      "/workspace/asplos22-source-code/dycause_lib/Granger_all_code_pair.py:663: RuntimeWarning: invalid value encountered in double_scalars\n",
      "  res2djoint.ssr) / res2djoint.ssr / lag * res2djoint.df_resid\n",
      "/workspace/asplos22-source-code/dycause_lib/Granger_all_code_pair.py:804: RuntimeWarning: invalid value encountered in double_scalars\n",
      "  1) * (res2djoint_df_resid) / lag\n",
      "/workspace/asplos22-source-code/dycause_lib/Granger_all_code_pair.py:824: RuntimeWarning: invalid value encountered in double_scalars\n",
      "  1) * (res2djoint_df_resid) / lag\n",
      "/workspace/asplos22-source-code/dycause_lib/Granger_all_code_pair.py:804: RuntimeWarning: divide by zero encountered in double_scalars\n",
      "  1) * (res2djoint_df_resid) / lag\n",
      "/workspace/asplos22-source-code/dycause_lib/Granger_all_code_pair.py:663: RuntimeWarning: invalid value encountered in double_scalars\n",
      "  res2djoint.ssr) / res2djoint.ssr / lag * res2djoint.df_resid\n",
      "/workspace/asplos22-source-code/dycause_lib/Granger_all_code_pair.py:804: RuntimeWarning: invalid value encountered in double_scalars\n",
      "  1) * (res2djoint_df_resid) / lag\n",
      "/workspace/asplos22-source-code/dycause_lib/Granger_all_code_pair.py:824: RuntimeWarning: invalid value encountered in double_scalars\n",
      "  1) * (res2djoint_df_resid) / lag\n",
      "/workspace/asplos22-source-code/dycause_lib/Granger_all_code_pair.py:804: RuntimeWarning: divide by zero encountered in double_scalars\n",
      "  1) * (res2djoint_df_resid) / lag\n",
      "/workspace/asplos22-source-code/dycause_lib/Granger_all_code_pair.py:663: RuntimeWarning: invalid value encountered in double_scalars\n",
      "  res2djoint.ssr) / res2djoint.ssr / lag * res2djoint.df_resid\n",
      "/workspace/asplos22-source-code/dycause_lib/Granger_all_code_pair.py:663: RuntimeWarning: invalid value encountered in double_scalars\n",
      "  res2djoint.ssr) / res2djoint.ssr / lag * res2djoint.df_resid\n",
      "/workspace/asplos22-source-code/dycause_lib/Granger_all_code_pair.py:804: RuntimeWarning: divide by zero encountered in double_scalars\n",
      "  1) * (res2djoint_df_resid) / lag\n",
      "/workspace/asplos22-source-code/dycause_lib/Granger_all_code_pair.py:663: RuntimeWarning: invalid value encountered in double_scalars\n",
      "  res2djoint.ssr) / res2djoint.ssr / lag * res2djoint.df_resid\n",
      "/workspace/asplos22-source-code/dycause_lib/Granger_all_code_pair.py:663: RuntimeWarning: invalid value encountered in double_scalars\n",
      "  res2djoint.ssr) / res2djoint.ssr / lag * res2djoint.df_resid\n",
      "/workspace/asplos22-source-code/dycause_lib/Granger_all_code_pair.py:804: RuntimeWarning: divide by zero encountered in double_scalars\n",
      "  1) * (res2djoint_df_resid) / lag\n",
      "/workspace/asplos22-source-code/dycause_lib/Granger_all_code_pair.py:663: RuntimeWarning: invalid value encountered in double_scalars\n",
      "  res2djoint.ssr) / res2djoint.ssr / lag * res2djoint.df_resid\n",
      "/workspace/asplos22-source-code/dycause_lib/Granger_all_code_pair.py:804: RuntimeWarning: divide by zero encountered in double_scalars\n",
      "  1) * (res2djoint_df_resid) / lag\n",
      "/workspace/asplos22-source-code/dycause_lib/Granger_all_code_pair.py:663: RuntimeWarning: invalid value encountered in double_scalars\n",
      "  res2djoint.ssr) / res2djoint.ssr / lag * res2djoint.df_resid\n",
      "/workspace/asplos22-source-code/dycause_lib/Granger_all_code_pair.py:804: RuntimeWarning: divide by zero encountered in double_scalars\n",
      "  1) * (res2djoint_df_resid) / lag\n"
     ]
    },
    {
     "name": "stderr",
     "output_type": "stream",
     "text": [
      "/workspace/asplos22-source-code/dycause_lib/Granger_all_code_pair.py:663: RuntimeWarning: invalid value encountered in double_scalars\n",
      "  res2djoint.ssr) / res2djoint.ssr / lag * res2djoint.df_resid\n",
      "/workspace/asplos22-source-code/dycause_lib/Granger_all_code_pair.py:804: RuntimeWarning: divide by zero encountered in double_scalars\n",
      "  1) * (res2djoint_df_resid) / lag\n",
      "/mnt/hdd.data/effcause-env/lib/python3.7/site-packages/statsmodels/regression/linear_model.py:903: RuntimeWarning: divide by zero encountered in log\n",
      "  llf = -nobs2*np.log(2*np.pi) - nobs2*np.log(ssr / nobs) - nobs2\n",
      "/mnt/hdd.data/effcause-env/lib/python3.7/site-packages/statsmodels/regression/linear_model.py:903: RuntimeWarning: divide by zero encountered in log\n",
      "  llf = -nobs2*np.log(2*np.pi) - nobs2*np.log(ssr / nobs) - nobs2\n",
      "/workspace/asplos22-source-code/dycause_lib/Granger_all_code_pair.py:663: RuntimeWarning: invalid value encountered in double_scalars\n",
      "  res2djoint.ssr) / res2djoint.ssr / lag * res2djoint.df_resid\n",
      "/workspace/asplos22-source-code/dycause_lib/Granger_all_code_pair.py:804: RuntimeWarning: invalid value encountered in double_scalars\n",
      "  1) * (res2djoint_df_resid) / lag\n",
      "/workspace/asplos22-source-code/dycause_lib/Granger_all_code_pair.py:824: RuntimeWarning: invalid value encountered in double_scalars\n",
      "  1) * (res2djoint_df_resid) / lag\n",
      "/workspace/asplos22-source-code/dycause_lib/Granger_all_code_pair.py:804: RuntimeWarning: divide by zero encountered in double_scalars\n",
      "  1) * (res2djoint_df_resid) / lag\n",
      "/workspace/asplos22-source-code/dycause_lib/Granger_all_code_pair.py:663: RuntimeWarning: invalid value encountered in double_scalars\n",
      "  res2djoint.ssr) / res2djoint.ssr / lag * res2djoint.df_resid\n",
      "/workspace/asplos22-source-code/dycause_lib/Granger_all_code_pair.py:804: RuntimeWarning: invalid value encountered in double_scalars\n",
      "  1) * (res2djoint_df_resid) / lag\n",
      "/workspace/asplos22-source-code/dycause_lib/Granger_all_code_pair.py:824: RuntimeWarning: invalid value encountered in double_scalars\n",
      "  1) * (res2djoint_df_resid) / lag\n",
      "/workspace/asplos22-source-code/dycause_lib/Granger_all_code_pair.py:804: RuntimeWarning: divide by zero encountered in double_scalars\n",
      "  1) * (res2djoint_df_resid) / lag\n",
      "/workspace/asplos22-source-code/dycause_lib/Granger_all_code_pair.py:663: RuntimeWarning: invalid value encountered in double_scalars\n",
      "  res2djoint.ssr) / res2djoint.ssr / lag * res2djoint.df_resid\n",
      "/workspace/asplos22-source-code/dycause_lib/Granger_all_code_pair.py:804: RuntimeWarning: divide by zero encountered in double_scalars\n",
      "  1) * (res2djoint_df_resid) / lag\n",
      "/workspace/asplos22-source-code/dycause_lib/Granger_all_code_pair.py:663: RuntimeWarning: invalid value encountered in double_scalars\n",
      "  res2djoint.ssr) / res2djoint.ssr / lag * res2djoint.df_resid\n",
      "/workspace/asplos22-source-code/dycause_lib/Granger_all_code_pair.py:804: RuntimeWarning: divide by zero encountered in double_scalars\n",
      "  1) * (res2djoint_df_resid) / lag\n",
      "/workspace/asplos22-source-code/dycause_lib/Granger_all_code_pair.py:663: RuntimeWarning: invalid value encountered in double_scalars\n",
      "  res2djoint.ssr) / res2djoint.ssr / lag * res2djoint.df_resid\n",
      "/workspace/asplos22-source-code/dycause_lib/Granger_all_code_pair.py:804: RuntimeWarning: divide by zero encountered in double_scalars\n",
      "  1) * (res2djoint_df_resid) / lag\n",
      "/workspace/asplos22-source-code/dycause_lib/Granger_all_code_pair.py:663: RuntimeWarning: invalid value encountered in double_scalars\n",
      "  res2djoint.ssr) / res2djoint.ssr / lag * res2djoint.df_resid\n",
      "/workspace/asplos22-source-code/dycause_lib/Granger_all_code_pair.py:804: RuntimeWarning: invalid value encountered in double_scalars\n",
      "  1) * (res2djoint_df_resid) / lag\n",
      "/workspace/asplos22-source-code/dycause_lib/Granger_all_code_pair.py:824: RuntimeWarning: invalid value encountered in double_scalars\n",
      "  1) * (res2djoint_df_resid) / lag\n",
      "/workspace/asplos22-source-code/dycause_lib/Granger_all_code_pair.py:804: RuntimeWarning: divide by zero encountered in double_scalars\n",
      "  1) * (res2djoint_df_resid) / lag\n",
      "/workspace/asplos22-source-code/dycause_lib/Granger_all_code_pair.py:663: RuntimeWarning: invalid value encountered in double_scalars\n",
      "  res2djoint.ssr) / res2djoint.ssr / lag * res2djoint.df_resid\n",
      "/workspace/asplos22-source-code/dycause_lib/Granger_all_code_pair.py:804: RuntimeWarning: invalid value encountered in double_scalars\n",
      "  1) * (res2djoint_df_resid) / lag\n",
      "/workspace/asplos22-source-code/dycause_lib/Granger_all_code_pair.py:824: RuntimeWarning: invalid value encountered in double_scalars\n",
      "  1) * (res2djoint_df_resid) / lag\n",
      "/workspace/asplos22-source-code/dycause_lib/Granger_all_code_pair.py:804: RuntimeWarning: divide by zero encountered in double_scalars\n",
      "  1) * (res2djoint_df_resid) / lag\n",
      "/workspace/asplos22-source-code/dycause_lib/Granger_all_code_pair.py:663: RuntimeWarning: invalid value encountered in double_scalars\n",
      "  res2djoint.ssr) / res2djoint.ssr / lag * res2djoint.df_resid\n",
      "/workspace/asplos22-source-code/dycause_lib/Granger_all_code_pair.py:804: RuntimeWarning: divide by zero encountered in double_scalars\n",
      "  1) * (res2djoint_df_resid) / lag\n",
      "/workspace/asplos22-source-code/dycause_lib/Granger_all_code_pair.py:663: RuntimeWarning: invalid value encountered in double_scalars\n",
      "  res2djoint.ssr) / res2djoint.ssr / lag * res2djoint.df_resid\n",
      "/workspace/asplos22-source-code/dycause_lib/Granger_all_code_pair.py:804: RuntimeWarning: divide by zero encountered in double_scalars\n",
      "  1) * (res2djoint_df_resid) / lag\n",
      "/workspace/asplos22-source-code/dycause_lib/Granger_all_code_pair.py:663: RuntimeWarning: invalid value encountered in double_scalars\n",
      "  res2djoint.ssr) / res2djoint.ssr / lag * res2djoint.df_resid\n",
      "/workspace/asplos22-source-code/dycause_lib/Granger_all_code_pair.py:804: RuntimeWarning: divide by zero encountered in double_scalars\n",
      "  1) * (res2djoint_df_resid) / lag\n",
      "/workspace/asplos22-source-code/dycause_lib/Granger_all_code_pair.py:663: RuntimeWarning: invalid value encountered in double_scalars\n",
      "  res2djoint.ssr) / res2djoint.ssr / lag * res2djoint.df_resid\n",
      "/workspace/asplos22-source-code/dycause_lib/Granger_all_code_pair.py:663: RuntimeWarning: invalid value encountered in double_scalars\n",
      "  res2djoint.ssr) / res2djoint.ssr / lag * res2djoint.df_resid\n",
      "/workspace/asplos22-source-code/dycause_lib/Granger_all_code_pair.py:804: RuntimeWarning: invalid value encountered in double_scalars\n",
      "  1) * (res2djoint_df_resid) / lag\n",
      "/workspace/asplos22-source-code/dycause_lib/Granger_all_code_pair.py:824: RuntimeWarning: invalid value encountered in double_scalars\n",
      "  1) * (res2djoint_df_resid) / lag\n",
      "/workspace/asplos22-source-code/dycause_lib/Granger_all_code_pair.py:804: RuntimeWarning: divide by zero encountered in double_scalars\n",
      "  1) * (res2djoint_df_resid) / lag\n",
      "/workspace/asplos22-source-code/dycause_lib/Granger_all_code_pair.py:663: RuntimeWarning: invalid value encountered in double_scalars\n",
      "  res2djoint.ssr) / res2djoint.ssr / lag * res2djoint.df_resid\n",
      "/workspace/asplos22-source-code/dycause_lib/Granger_all_code_pair.py:804: RuntimeWarning: invalid value encountered in double_scalars\n",
      "  1) * (res2djoint_df_resid) / lag\n",
      "/workspace/asplos22-source-code/dycause_lib/Granger_all_code_pair.py:824: RuntimeWarning: invalid value encountered in double_scalars\n",
      "  1) * (res2djoint_df_resid) / lag\n",
      "/workspace/asplos22-source-code/dycause_lib/Granger_all_code_pair.py:804: RuntimeWarning: divide by zero encountered in double_scalars\n",
      "  1) * (res2djoint_df_resid) / lag\n",
      "/workspace/asplos22-source-code/dycause_lib/Granger_all_code_pair.py:663: RuntimeWarning: invalid value encountered in double_scalars\n",
      "  res2djoint.ssr) / res2djoint.ssr / lag * res2djoint.df_resid\n",
      "/workspace/asplos22-source-code/dycause_lib/Granger_all_code_pair.py:804: RuntimeWarning: invalid value encountered in double_scalars\n",
      "  1) * (res2djoint_df_resid) / lag\n",
      "/workspace/asplos22-source-code/dycause_lib/Granger_all_code_pair.py:824: RuntimeWarning: invalid value encountered in double_scalars\n",
      "  1) * (res2djoint_df_resid) / lag\n",
      "/workspace/asplos22-source-code/dycause_lib/Granger_all_code_pair.py:804: RuntimeWarning: divide by zero encountered in double_scalars\n",
      "  1) * (res2djoint_df_resid) / lag\n",
      "/workspace/asplos22-source-code/dycause_lib/Granger_all_code_pair.py:663: RuntimeWarning: invalid value encountered in double_scalars\n",
      "  res2djoint.ssr) / res2djoint.ssr / lag * res2djoint.df_resid\n"
     ]
    },
    {
     "name": "stderr",
     "output_type": "stream",
     "text": [
      "/workspace/asplos22-source-code/dycause_lib/Granger_all_code_pair.py:804: RuntimeWarning: divide by zero encountered in double_scalars\n",
      "  1) * (res2djoint_df_resid) / lag\n",
      "/workspace/asplos22-source-code/dycause_lib/Granger_all_code_pair.py:663: RuntimeWarning: invalid value encountered in double_scalars\n",
      "  res2djoint.ssr) / res2djoint.ssr / lag * res2djoint.df_resid\n",
      "/workspace/asplos22-source-code/dycause_lib/Granger_all_code_pair.py:804: RuntimeWarning: divide by zero encountered in double_scalars\n",
      "  1) * (res2djoint_df_resid) / lag\n",
      "/workspace/asplos22-source-code/dycause_lib/Granger_all_code_pair.py:663: RuntimeWarning: invalid value encountered in double_scalars\n",
      "  res2djoint.ssr) / res2djoint.ssr / lag * res2djoint.df_resid\n",
      "/workspace/asplos22-source-code/dycause_lib/Granger_all_code_pair.py:663: RuntimeWarning: invalid value encountered in double_scalars\n",
      "  res2djoint.ssr) / res2djoint.ssr / lag * res2djoint.df_resid\n",
      "/workspace/asplos22-source-code/dycause_lib/Granger_all_code_pair.py:804: RuntimeWarning: invalid value encountered in double_scalars\n",
      "  1) * (res2djoint_df_resid) / lag\n",
      "/workspace/asplos22-source-code/dycause_lib/Granger_all_code_pair.py:824: RuntimeWarning: invalid value encountered in double_scalars\n",
      "  1) * (res2djoint_df_resid) / lag\n",
      "/workspace/asplos22-source-code/dycause_lib/Granger_all_code_pair.py:804: RuntimeWarning: divide by zero encountered in double_scalars\n",
      "  1) * (res2djoint_df_resid) / lag\n",
      "/workspace/asplos22-source-code/dycause_lib/Granger_all_code_pair.py:663: RuntimeWarning: invalid value encountered in double_scalars\n",
      "  res2djoint.ssr) / res2djoint.ssr / lag * res2djoint.df_resid\n",
      "/workspace/asplos22-source-code/dycause_lib/Granger_all_code_pair.py:804: RuntimeWarning: divide by zero encountered in double_scalars\n",
      "  1) * (res2djoint_df_resid) / lag\n",
      "/workspace/asplos22-source-code/dycause_lib/Granger_all_code_pair.py:663: RuntimeWarning: invalid value encountered in double_scalars\n",
      "  res2djoint.ssr) / res2djoint.ssr / lag * res2djoint.df_resid\n",
      "/workspace/asplos22-source-code/dycause_lib/Granger_all_code_pair.py:804: RuntimeWarning: invalid value encountered in double_scalars\n",
      "  1) * (res2djoint_df_resid) / lag\n",
      "/workspace/asplos22-source-code/dycause_lib/Granger_all_code_pair.py:824: RuntimeWarning: invalid value encountered in double_scalars\n",
      "  1) * (res2djoint_df_resid) / lag\n",
      "/workspace/asplos22-source-code/dycause_lib/Granger_all_code_pair.py:804: RuntimeWarning: divide by zero encountered in double_scalars\n",
      "  1) * (res2djoint_df_resid) / lag\n",
      "/workspace/asplos22-source-code/dycause_lib/Granger_all_code_pair.py:663: RuntimeWarning: invalid value encountered in double_scalars\n",
      "  res2djoint.ssr) / res2djoint.ssr / lag * res2djoint.df_resid\n",
      "/workspace/asplos22-source-code/dycause_lib/Granger_all_code_pair.py:663: RuntimeWarning: invalid value encountered in double_scalars\n",
      "  res2djoint.ssr) / res2djoint.ssr / lag * res2djoint.df_resid\n",
      "/workspace/asplos22-source-code/dycause_lib/Granger_all_code_pair.py:804: RuntimeWarning: divide by zero encountered in double_scalars\n",
      "  1) * (res2djoint_df_resid) / lag\n",
      "/workspace/asplos22-source-code/dycause_lib/Granger_all_code_pair.py:804: RuntimeWarning: divide by zero encountered in double_scalars\n",
      "  1) * (res2djoint_df_resid) / lag\n",
      "/workspace/asplos22-source-code/dycause_lib/Granger_all_code_pair.py:663: RuntimeWarning: invalid value encountered in double_scal"
     ]
    },
    {
     "data": {
      "text/html": [
       "<b>limit_output extension: Maximum message size of 20000 exceeded with 20067 characters</b>"
      ]
     },
     "metadata": {},
     "output_type": "display_data"
    },
    {
     "ename": "KeyboardInterrupt",
     "evalue": "",
     "output_type": "error",
     "traceback": [
      "\u001b[0;31m---------------------------------------------------------------------------\u001b[0m",
      "\u001b[0;31mKeyboardInterrupt\u001b[0m                         Traceback (most recent call last)",
      "\u001b[0;32m/tmp/ipykernel_3110169/1686084752.py\u001b[0m in \u001b[0;36m<module>\u001b[0;34m\u001b[0m\n\u001b[1;32m     16\u001b[0m     \u001b[0;31m# Debug_params\u001b[0m\u001b[0;34m\u001b[0m\u001b[0;34m\u001b[0m\u001b[0;34m\u001b[0m\u001b[0m\n\u001b[1;32m     17\u001b[0m     \u001b[0mverbose\u001b[0m\u001b[0;34m=\u001b[0m\u001b[0;32mFalse\u001b[0m\u001b[0;34m,\u001b[0m\u001b[0;34m\u001b[0m\u001b[0;34m\u001b[0m\u001b[0m\n\u001b[0;32m---> 18\u001b[0;31m     \u001b[0mruntime_debug\u001b[0m\u001b[0;34m=\u001b[0m\u001b[0;32mTrue\u001b[0m\u001b[0;34m,\u001b[0m\u001b[0;34m\u001b[0m\u001b[0;34m\u001b[0m\u001b[0m\n\u001b[0m\u001b[1;32m     19\u001b[0m )\n\u001b[1;32m     20\u001b[0m exp_ret = {\n",
      "\u001b[0;32m/workspace/asplos22-source-code/main_dycause_mp_new.py\u001b[0m in \u001b[0;36mdycause_causal_discover\u001b[0;34m(data, step, significant_thres, lag, adaptive_threshold, use_multiprocess, max_workers, mp_mode, opt_method, max_segment_len, verbose, runtime_debug, *args, **kws)\u001b[0m\n\u001b[1;32m     78\u001b[0m         \u001b[0muse_multiprocess\u001b[0m\u001b[0;34m=\u001b[0m\u001b[0muse_multiprocess\u001b[0m\u001b[0;34m,\u001b[0m\u001b[0;34m\u001b[0m\u001b[0;34m\u001b[0m\u001b[0m\n\u001b[1;32m     79\u001b[0m         \u001b[0mmp_mode\u001b[0m\u001b[0;34m=\u001b[0m\u001b[0mmp_mode\u001b[0m\u001b[0;34m,\u001b[0m\u001b[0;34m\u001b[0m\u001b[0;34m\u001b[0m\u001b[0m\n\u001b[0;32m---> 80\u001b[0;31m         \u001b[0mmax_workers\u001b[0m\u001b[0;34m=\u001b[0m\u001b[0mmax_workers\u001b[0m\u001b[0;34m\u001b[0m\u001b[0;34m\u001b[0m\u001b[0m\n\u001b[0m\u001b[1;32m     81\u001b[0m     )\n\u001b[1;32m     82\u001b[0m \u001b[0;34m\u001b[0m\u001b[0m\n",
      "\u001b[0;32m/workspace/asplos22-source-code/dycause_lib/temporal_analyze.py\u001b[0m in \u001b[0;36mgranger_analyze\u001b[0;34m(self, data, use_multiprocess, mp_mode, **kws)\u001b[0m\n\u001b[1;32m    399\u001b[0m                             )\n\u001b[1;32m    400\u001b[0m                         )\n\u001b[0;32m--> 401\u001b[0;31m                     \u001b[0mexecutor\u001b[0m\u001b[0;34m.\u001b[0m\u001b[0mshutdown\u001b[0m\u001b[0;34m(\u001b[0m\u001b[0mwait\u001b[0m\u001b[0;34m=\u001b[0m\u001b[0;32mTrue\u001b[0m\u001b[0;34m)\u001b[0m\u001b[0;34m\u001b[0m\u001b[0;34m\u001b[0m\u001b[0m\n\u001b[0m\u001b[1;32m    402\u001b[0m                 \u001b[0;32melse\u001b[0m\u001b[0;34m:\u001b[0m\u001b[0;34m\u001b[0m\u001b[0;34m\u001b[0m\u001b[0m\n\u001b[1;32m    403\u001b[0m                     \u001b[0;32mraise\u001b[0m \u001b[0mNotImplementedError\u001b[0m\u001b[0;34m(\u001b[0m\u001b[0;34m\"multiprocess mode not supported!\"\u001b[0m\u001b[0;34m)\u001b[0m\u001b[0;34m\u001b[0m\u001b[0;34m\u001b[0m\u001b[0m\n",
      "\u001b[0;32m/mnt/hdd.data/effcause-env/lib/python3.7/concurrent/futures/process.py\u001b[0m in \u001b[0;36mshutdown\u001b[0;34m(self, wait)\u001b[0m\n\u001b[1;32m    679\u001b[0m             \u001b[0mself\u001b[0m\u001b[0;34m.\u001b[0m\u001b[0m_queue_management_thread_wakeup\u001b[0m\u001b[0;34m.\u001b[0m\u001b[0mwakeup\u001b[0m\u001b[0;34m(\u001b[0m\u001b[0;34m)\u001b[0m\u001b[0;34m\u001b[0m\u001b[0;34m\u001b[0m\u001b[0m\n\u001b[1;32m    680\u001b[0m             \u001b[0;32mif\u001b[0m \u001b[0mwait\u001b[0m\u001b[0;34m:\u001b[0m\u001b[0;34m\u001b[0m\u001b[0;34m\u001b[0m\u001b[0m\n\u001b[0;32m--> 681\u001b[0;31m                 \u001b[0mself\u001b[0m\u001b[0;34m.\u001b[0m\u001b[0m_queue_management_thread\u001b[0m\u001b[0;34m.\u001b[0m\u001b[0mjoin\u001b[0m\u001b[0;34m(\u001b[0m\u001b[0;34m)\u001b[0m\u001b[0;34m\u001b[0m\u001b[0;34m\u001b[0m\u001b[0m\n\u001b[0m\u001b[1;32m    682\u001b[0m         \u001b[0;31m# To reduce the risk of opening too many files, remove references to\u001b[0m\u001b[0;34m\u001b[0m\u001b[0;34m\u001b[0m\u001b[0;34m\u001b[0m\u001b[0m\n\u001b[1;32m    683\u001b[0m         \u001b[0;31m# objects that use file descriptors.\u001b[0m\u001b[0;34m\u001b[0m\u001b[0;34m\u001b[0m\u001b[0;34m\u001b[0m\u001b[0m\n",
      "\u001b[0;32m/mnt/hdd.data/effcause-env/lib/python3.7/threading.py\u001b[0m in \u001b[0;36mjoin\u001b[0;34m(self, timeout)\u001b[0m\n\u001b[1;32m   1042\u001b[0m \u001b[0;34m\u001b[0m\u001b[0m\n\u001b[1;32m   1043\u001b[0m         \u001b[0;32mif\u001b[0m \u001b[0mtimeout\u001b[0m \u001b[0;32mis\u001b[0m \u001b[0;32mNone\u001b[0m\u001b[0;34m:\u001b[0m\u001b[0;34m\u001b[0m\u001b[0;34m\u001b[0m\u001b[0m\n\u001b[0;32m-> 1044\u001b[0;31m             \u001b[0mself\u001b[0m\u001b[0;34m.\u001b[0m\u001b[0m_wait_for_tstate_lock\u001b[0m\u001b[0;34m(\u001b[0m\u001b[0;34m)\u001b[0m\u001b[0;34m\u001b[0m\u001b[0;34m\u001b[0m\u001b[0m\n\u001b[0m\u001b[1;32m   1045\u001b[0m         \u001b[0;32melse\u001b[0m\u001b[0;34m:\u001b[0m\u001b[0;34m\u001b[0m\u001b[0;34m\u001b[0m\u001b[0m\n\u001b[1;32m   1046\u001b[0m             \u001b[0;31m# the behavior of a negative timeout isn't documented, but\u001b[0m\u001b[0;34m\u001b[0m\u001b[0;34m\u001b[0m\u001b[0;34m\u001b[0m\u001b[0m\n",
      "\u001b[0;32m/mnt/hdd.data/effcause-env/lib/python3.7/threading.py\u001b[0m in \u001b[0;36m_wait_for_tstate_lock\u001b[0;34m(self, block, timeout)\u001b[0m\n\u001b[1;32m   1058\u001b[0m         \u001b[0;32mif\u001b[0m \u001b[0mlock\u001b[0m \u001b[0;32mis\u001b[0m \u001b[0;32mNone\u001b[0m\u001b[0;34m:\u001b[0m  \u001b[0;31m# already determined that the C code is done\u001b[0m\u001b[0;34m\u001b[0m\u001b[0;34m\u001b[0m\u001b[0m\n\u001b[1;32m   1059\u001b[0m             \u001b[0;32massert\u001b[0m \u001b[0mself\u001b[0m\u001b[0;34m.\u001b[0m\u001b[0m_is_stopped\u001b[0m\u001b[0;34m\u001b[0m\u001b[0;34m\u001b[0m\u001b[0m\n\u001b[0;32m-> 1060\u001b[0;31m         \u001b[0;32melif\u001b[0m \u001b[0mlock\u001b[0m\u001b[0;34m.\u001b[0m\u001b[0macquire\u001b[0m\u001b[0;34m(\u001b[0m\u001b[0mblock\u001b[0m\u001b[0;34m,\u001b[0m \u001b[0mtimeout\u001b[0m\u001b[0;34m)\u001b[0m\u001b[0;34m:\u001b[0m\u001b[0;34m\u001b[0m\u001b[0;34m\u001b[0m\u001b[0m\n\u001b[0m\u001b[1;32m   1061\u001b[0m             \u001b[0mlock\u001b[0m\u001b[0;34m.\u001b[0m\u001b[0mrelease\u001b[0m\u001b[0;34m(\u001b[0m\u001b[0;34m)\u001b[0m\u001b[0;34m\u001b[0m\u001b[0;34m\u001b[0m\u001b[0m\n\u001b[1;32m   1062\u001b[0m             \u001b[0mself\u001b[0m\u001b[0;34m.\u001b[0m\u001b[0m_stop\u001b[0m\u001b[0;34m(\u001b[0m\u001b[0;34m)\u001b[0m\u001b[0;34m\u001b[0m\u001b[0;34m\u001b[0m\u001b[0m\n",
      "\u001b[0;31mKeyboardInterrupt\u001b[0m: "
     ]
    }
   ],
   "source": [
    "dycause_input = pd.read_csv(os.path.join('sample_data', 'anomaly_host_metrics.csv'),\n",
    "                            index_col=0)\n",
    "dycause_input.index = pd.to_datetime(dycause_input.index)\n",
    "\n",
    "local_results_dy, dcc_dy, mat_dy, time_stat_dict_dy = dycause_causal_discover(\n",
    "    # Data params\n",
    "    dycause_input.to_numpy()[:, :],\n",
    "    # Granger interval based graph construction params\n",
    "    step=30,\n",
    "    significant_thres=0.05,\n",
    "    lag=7,  # must satisfy: step > 3 * lag + 1\n",
    "    adaptive_threshold=0.7,\n",
    "    use_multiprocess=True,\n",
    "    max_workers=10,\n",
    "    max_segment_len=None,\n",
    "    # Debug_params\n",
    "    verbose=False,\n",
    "    runtime_debug=True,\n",
    ")\n",
    "exp_ret = {\n",
    "    'time_info': {'DyCause': time_stat_dict_dy[\"Construct-Impact-Graph-Phase\"]},\n",
    "    'local_results': local_results_dy,\n",
    "    'dcc': dcc_dy,\n",
    "    'sign': 0.05,\n",
    "    'step': 30,\n",
    "    'lag': 7\n",
    "}\n",
    "\n",
    "print('DyCause Time:', f\"{exp_ret['time_info']['DyCause']:.4f}\")\n",
    "meth_imp.build_intervals_special(exp_ret['local_results'], exp_ret['sign'], dycause_input.shape[0], \n",
    "                                 exp_ret['step'], dycause_input.shape[1])\n",
    "exp_ret['dcc_special'] = meth_imp.generate_DCC(exp_ret['local_results'], dycause_input.shape[0], \n",
    "                                               dycause_input.shape[1], interval_key=\"intervals_special\")"
   ]
  },
  {
   "cell_type": "code",
   "execution_count": 27,
   "metadata": {
    "ExecuteTime": {
     "end_time": "2022-10-17T03:21:00.519814Z",
     "start_time": "2022-10-17T03:21:00.283886Z"
    },
    "scrolled": false
   },
   "outputs": [
    {
     "data": {
      "image/png": "[encoded data removed]",
      "text/plain": [
       "<Figure size 864x144 with 2 Axes>"
      ]
     },
     "metadata": {
      "needs_background": "light"
     },
     "output_type": "display_data"
    }
   ],
   "source": [
    "gd.plot_legend_colorbar(\n",
    "    color_info_by_case['case7'][0], plt.get_cmap(\"viridis\"), 0, 2672,\n",
    "    # savepath=os.path.join(plot_out_dir, 'graph_legend.png')\n",
    ")"
   ]
  },
  {
   "cell_type": "code",
   "execution_count": 32,
   "metadata": {
    "ExecuteTime": {
     "end_time": "2022-10-17T03:22:16.397034Z",
     "start_time": "2022-10-17T03:22:16.160211Z"
    },
    "code_folding": [],
    "scrolled": false
   },
   "outputs": [
    {
     "name": "stdout",
     "output_type": "stream",
     "text": [
      "Num of nonzeros: 80, min=0.0, max=2672.0\n"
     ]
    }
   ],
   "source": [
    "%matplotlib inline\n",
    "# for exp_ret in exp_rets:\n",
    "tic = time.time()\n",
    "data_idx_to_graph_idx, graph_idx_to_data_idx = gd.construct_d2g_map_dict(\n",
    "    list(dycause_input.columns), columns_by_case['case7'], print_info=False\n",
    ")\n",
    "exp_ret[\"filtered_dcc\"] = gd.filter_dcc(\n",
    "    exp_ret[\"dcc\"], len(columns_by_case['case7']), graph_idx_to_data_idx\n",
    ")\n",
    "exp_ret[\"filtered_dcc_special\"] = gd.filter_dcc(\n",
    "    exp_ret[\"dcc_special\"], len(columns_by_case['case7']), graph_idx_to_data_idx\n",
    ")\n",
    "filtered_df = gd.filter_df(dycause_input, graph_idx_to_data_idx, len(columns_by_case['case7']))\n",
    "# hints from anomaly dcc\n",
    "hints = meth_imp.get_dir_hints_from_dcc(exp_ret[\"filtered_dcc\"], len(columns_by_case['case7']), 30)\n",
    "# merge hints from normal profile\n",
    "# hints = hints + normal_profile_hints_filtered\n",
    "# hints = meth_imp.remove_double_direction_hints(hints)\n",
    "\n",
    "o_s_ids, o_t_ids = get_only_source_target_idx(\n",
    "    only_source_cols, only_target_cols, list(columns_by_case['case7'])\n",
    ")\n",
    "ntop=80\n",
    "# for ntop in [80]:\n",
    "mat, candidates = meth_imp.global_thresholding(\n",
    "    exp_ret[\"filtered_dcc_special\"],\n",
    "    len(columns_by_case['case7']),\n",
    "    normal_axis=\"none\",\n",
    "    ntop=ntop,\n",
    "    only_source_ids=o_s_ids,\n",
    "    only_target_ids=o_t_ids,\n",
    "    hints=hints,\n",
    "    return_candidates=True\n",
    ")\n",
    "exp_ret['time_info']['Graph'] = time.time() - tic\n",
    "gd.mat_summary(mat)\n",
    "exp_ret['mat'] = mat\n",
    "exp_ret['candidates'] = candidates"
   ]
  },
  {
   "cell_type": "code",
   "execution_count": 33,
   "metadata": {
    "ExecuteTime": {
     "end_time": "2022-10-17T03:22:53.698567Z",
     "start_time": "2022-10-17T03:22:19.564187Z"
    }
   },
   "outputs": [
    {
     "data": {
      "application/vnd.jupyter.widget-view+json": {
       "model_id": "c2a4572ba3794f1e83edf15928ebfb9a",
       "version_major": 2,
       "version_minor": 0
      },
      "text/plain": [
       "HBox(children=(FloatProgress(value=0.0, max=80.0), HTML(value='')))"
      ]
     },
     "metadata": {},
     "output_type": "display_data"
    },
    {
     "name": "stdout",
     "output_type": "stream",
     "text": [
      "\n"
     ]
    }
   ],
   "source": [
    "# for exp_ret in exp_rets:\n",
    "tic = time.time()\n",
    "# corr_res_cond_shuffled, corr_res_cond = calculate_CMIknn_shuffled(mat, filtered_df)\n",
    "corr_res_cond_shuffled, corr_res_cond = meth_imp.calculate_CMIknn_shuffled_mp(exp_ret['mat'],\n",
    "                                                                              filtered_df.iloc[-120:, :],\n",
    "                                                                              max_workers=10, verbose=True)\n",
    "# corr_res_cond_shuffled = meth_imp.calculate_parcorr(mat, filtered_df)\n",
    "toc = time.time() - tic\n",
    "exp_ret['time_info']['Cond'] = toc\n",
    "exp_ret['corr_res_cond_shuffled'] = corr_res_cond_shuffled"
   ]
  },
  {
   "cell_type": "markdown",
   "metadata": {},
   "source": [
    "### Edge Correctness Counts"
   ]
  },
  {
   "cell_type": "code",
   "execution_count": 1347,
   "metadata": {
    "ExecuteTime": {
     "end_time": "2022-10-15T10:58:38.315575Z",
     "start_time": "2022-10-15T10:58:38.272408Z"
    }
   },
   "outputs": [],
   "source": [
    "# r = gd.plot_graph_networkx_igraphlayout(\n",
    "#     exp_ret['filtered_mat'],\n",
    "#     color_info_by_case['case7'][1],\n",
    "#     layout_meth=\"freingold\",\n",
    "#     savename=os.path.join(plot_out_dir, \"igraph-plot\", f\"best_filtered_mat_freingold.pdf\")\n",
    "# )\n",
    "correct_edges = {}\n",
    "for (i, j) in case1to6_correct_edges + case1_correct_edges:\n",
    "    if i in columns_by_case['case7'] and j in columns_by_case['case7']:\n",
    "        correct_edges[columns_by_case['case7'].index(i), columns_by_case['case7'].index(j)] = True\n",
    "\n",
    "wrong_edges = {}\n",
    "for (i, j) in case1to6_wrong_edges + case1_wrong_edges:\n",
    "    if i in columns_by_case['case7'] and j in columns_by_case['case7']:\n",
    "        wrong_edges[columns_by_case['case7'].index(i), columns_by_case['case7'].index(j)] = True"
   ]
  },
  {
   "cell_type": "code",
   "execution_count": 1351,
   "metadata": {
    "ExecuteTime": {
     "end_time": "2022-10-15T11:04:43.944422Z",
     "start_time": "2022-10-15T11:04:43.880629Z"
    },
    "scrolled": false
   },
   "outputs": [
    {
     "data": {
      "text/plain": [
       "(12, 16)"
      ]
     },
     "execution_count": 1351,
     "metadata": {},
     "output_type": "execute_result"
    }
   ],
   "source": [
    "len(correct_edges), len(wrong_edges)"
   ]
  },
  {
   "cell_type": "code",
   "execution_count": 1392,
   "metadata": {
    "ExecuteTime": {
     "end_time": "2022-10-15T13:42:27.262561Z",
     "start_time": "2022-10-15T13:42:27.161276Z"
    }
   },
   "outputs": [
    {
     "name": "stdout",
     "output_type": "stream",
     "text": [
      "80 2 0 78 3112 16 10 3086 [2.50%,100.00%] [0.06%,88.89%] [0.56%,99.69%]\n",
      "169 3 4 162 3023 12 9 3002 [1.78%,97.63%] [0.10%,94.83%] [0.47%,99.59%]\n",
      "40 2 0 38 3152 16 10 3126 [5.00%,100.00%] [0.06%,80.00%] [0.56%,99.69%]\n",
      "2192 12 15 2165 1000 1 0 999 [0.55%,99.32%] [1.19%,100.00%] [0.41%,99.53%]\n"
     ]
    }
   ],
   "source": [
    "def count_mat(mat):\n",
    "    N = mat.shape[0]\n",
    "    counts = {}\n",
    "    counts['pos_tot'] = len(np.nonzero(mat)[0])\n",
    "    counts['tp_'] = 0\n",
    "    for i, j in zip(*np.nonzero(mat)):\n",
    "        if (i, j) in correct_edges:\n",
    "            counts['tp_'] += 1\n",
    "    counts['fp_'] = 0\n",
    "    for i, j in zip(*np.nonzero(mat)):\n",
    "        if (i, j) in wrong_edges:\n",
    "            counts['fp_'] += 1\n",
    "    counts['pos_unk'] = counts['pos_tot'] - counts['tp_'] - counts['fp_']\n",
    "    \n",
    "    counts['neg_tot'] = N * (N-1) - counts['pos_tot']\n",
    "    counts['tn_'] = 0\n",
    "    counts['fn_'] = 0\n",
    "    for i in range(N):\n",
    "        for j in range(N):\n",
    "            if mat[i, j] <= 0 and (i, j) in wrong_edges:\n",
    "                counts['tn_'] += 1\n",
    "            if mat[i, j] <= 0 and (i, j) in correct_edges:\n",
    "                counts['fn_'] += 1\n",
    "    counts['neg_unk'] = counts['neg_tot'] - counts['tn_'] - counts['fn_']\n",
    "#     print('{} {}({:.2%}) {}({:.2%}) {}({:.2%}) {} {}({:.2%}) {}({:.2%}) {}({:.2%}) '.format(\n",
    "#         counts['pos_tot'], counts['tp_'], counts['tp_']/counts['pos_tot'], counts['fp_'], counts['fp_']/counts['pos_tot'], counts['pos_unk'], counts['pos_unk']/counts['pos_tot'],\n",
    "#         counts['neg_tot'], counts['tn_'], counts['tn_']/counts['neg_tot'], counts['fn_'], counts['fn_']/counts['neg_tot'], counts['neg_unk'], counts['neg_unk']/counts['neg_tot'],\n",
    "#     ), end=' ')\n",
    "    print('{} {} {} {} {} {} {} {}'.format(\n",
    "        counts['pos_tot'], counts['tp_'], counts['fp_'], counts['pos_unk'],\n",
    "        counts['neg_tot'], counts['tn_'], counts['fn_'], counts['neg_unk'],\n",
    "    ), end=' ')\n",
    "    print('[{:.2%},{:.2%}] [{:.2%},{:.2%}] [{:.2%},{:.2%}]'.format(\n",
    "        counts['tp_']/(counts['tp_']+counts['fp_']+counts['pos_unk']), (counts['tp_']+counts['pos_unk'])/(counts['tp_']+counts['fp_']+counts['pos_unk']),\n",
    "        counts['tp_']/(counts['tp_']+counts['fn_']+counts['neg_unk']), (counts['tp_']+counts['pos_unk'])/(counts['tp_']+counts['pos_unk']+counts['fn_']),\n",
    "        (counts['tp_']+counts['tn_'])/(counts['pos_tot']+counts['neg_tot']), (counts['tp_']+counts['tn_']+counts['pos_unk']+counts['neg_unk'])/(counts['pos_tot']+counts['neg_tot'])\n",
    "    ))\n",
    "    return counts\n",
    "\n",
    "for mat in [\n",
    "    exp_ret['filtered_mat'], \n",
    "    dycause_all_case_result['case7'][872]['mat'],\n",
    "    np.array(cr_all_case_result['case7'][80]['others']['access']),\n",
    "    pcmci_all_case_result['case7'][225]['adj']]:\n",
    "    \n",
    "    count_mat(mat)\n",
    "# count_mat(dycause_all_case_result['case7'][872]['mat'])\n",
    "# count_mat(np.array(cr_all_case_result['case7'][80]['others']['access']))\n",
    "# count_mat(pcmci_all_case_result['case7'][225]['adj'])"
   ]
  },
  {
   "cell_type": "markdown",
   "metadata": {
    "ExecuteTime": {
     "end_time": "2022-06-24T08:05:02.574348Z",
     "start_time": "2022-06-24T08:05:02.509521Z"
    }
   },
   "source": [
    "### Case 7 RCA"
   ]
  },
  {
   "cell_type": "code",
   "execution_count": 34,
   "metadata": {
    "ExecuteTime": {
     "end_time": "2022-10-17T03:22:56.948316Z",
     "start_time": "2022-10-17T03:22:56.912384Z"
    }
   },
   "outputs": [
    {
     "name": "stdout",
     "output_type": "stream",
     "text": [
      "entry: 13 root causes: [16, 17, 18, 19, 15]\n"
     ]
    }
   ],
   "source": [
    "entry = columns_by_case['case7'].index('load1')\n",
    "root_causes = [columns_by_case['case7'].index(_) for _ in [\"memBuffers\", \"memCached\", \"memShmem\", \"memUsedPercent\", \"memAvailablePercent\"]]\n",
    "print('entry:', entry, 'root causes:', root_causes)"
   ]
  },
  {
   "cell_type": "code",
   "execution_count": 36,
   "metadata": {
    "ExecuteTime": {
     "end_time": "2022-10-17T03:23:34.336543Z",
     "start_time": "2022-10-17T03:23:34.172442Z"
    }
   },
   "outputs": [
    {
     "name": "stdout",
     "output_type": "stream",
     "text": [
      "0.63: load1,memAvailablePercent,memUsedPercent\n",
      "0.40: load1,memShmem,retrans,(device=sda)disk.io.util,load5\n",
      "0.39: load1,memShmem,retrans,(device=sda)disk.io.util,kernelFilesAllocated\n",
      "0.39: load1,memShmem,(device=sda)disk.io.read,tcpTW,ssClosed,(device=sdb)disk.io.write_bytes_Diff,(device=sda)disk.io.w_wait,user,load5\n",
      "0.39: load1,memShmem,retrans,(device=sda)disk.io.util,kernelFilesAllocated,(device=sda)disk.io.read,tcpTW,ssClosed,(device=sdb)disk.io.write_bytes_Diff,(device=sda)disk.io.w_wait,user,load5\n",
      "0.39: load1,memShmem,retrans,(device=sda)disk.io.util,kernelFilesAllocated,(device=sda)disk.io.read,ssClosed,(device=sdb)disk.io.write_bytes_Diff,(device=sda)disk.io.w_wait,user,load5\n",
      "0.39: load1,memShmem,(device=sda)disk.io.read,ssClosed,(device=sdb)disk.io.write_bytes_Diff,(device=sda)disk.io.w_wait,user,load5\n",
      "0.39: load1,memShmem,retrans,(device=sda)disk.io.util,kernelFilesAllocated,tcpPkgInsegs\n",
      "0.38: load1,memShmem,retrans,(device=sda)disk.io.util,kernelFilesAllocated,(device=sda)disk.io.read,ssTimeWait,ssClosed,(device=sdb)disk.io.write_bytes_Diff,(device=sda)disk.io.w_wait,user,load5\n",
      "0.38: load1,memShmem,retrans,(device=sda)disk.io.util,kernelFilesAllocated,(device=sda)disk.io.read,tcpTW,ssTimeWait,ssClosed,(device=sdb)disk.io.write_bytes_Diff,(device=sda)disk.io.w_wait,user,load5\n",
      "0.86 load5\n",
      "0.72 (device=sda)disk.io.util\n",
      "0.65 memUsedPercent\n",
      "0.65 memShmem\n",
      "0.61 memAvailablePercent\n",
      "0.30 retrans\n",
      "0.00 load1\n",
      "0.00 memBuffers\n",
      "0.00 memCached\n",
      "0.00 iowait\n",
      "0.00 busy\n",
      "0.00 kernelFilesAllocated\n",
      "0.00 (device=sda)disk.io.read\n",
      "0.00 (iface=eth0)outPercent\n",
      "0.00 (iface=eth0)outPackets\n",
      "0.00 (iface=eth0)totalBytes\n",
      "0.00 (iface=eth0)totalPackets\n",
      "0.00 tcpPkgOutsegs\n",
      "0.00 (iface=eth0)inPackets\n",
      "0.00 (iface=eth0)inPercent\n",
      "0.00 ssTimeWait\n",
      "0.00 tcpPkgInsegs\n",
      "0.00 ssEstab\n",
      "0.00 ssClosed\n",
      "0.00 tcpTW\n",
      "0.00 softirq\n",
      "0.00 (mount=/)df.bytes.free.percent\n",
      "0.00 user\n",
      "0.00 (device=sdb)disk.io.read\n",
      "0.00 (device=sdb)disk.io.util\n",
      "0.00 system\n",
      "0.00 (device=sda)disk.io.read_bytes_Diff\n",
      "0.00 (device=sda)disk.io.await\n",
      "0.00 (mount=/)df.statistics.used.percent\n",
      "0.00 (mount=/data00)df.bytes.free.percent\n",
      "0.00 (mount=/data00)df.statistics.used.percent\n",
      "0.00 (device=sdb)disk.io.await\n",
      "0.00 udpNoPorts\n",
      "0.00 (device=sda)disk.io.w_wait\n",
      "0.00 ssOrphaned\n",
      "0.00 (mount=/)df.statistics.total\n",
      "0.00 (device=sdb)disk.io.w_wait\n",
      "0.00 (device=sdb)disk.io.write\n",
      "0.00 switches\n",
      "0.00 (mount=/data00)df.statistics.total\n",
      "0.00 tcpAbortOnTimeout\n",
      "0.00 (device=sda)disk.io.write\n",
      "0.00 (mount=/data00)df.statistics.used\n",
      "0.00 (device=sda)disk.io.write_bytes_Diff\n",
      "0.00 (mount=/data00)df.inodes.free.percent\n",
      "0.00 tcpDelayedACKLocked\n",
      "0.00 (mount=/)df.statistics.used\n",
      "0.00 udpInDatagrams\n",
      "0.00 udpOutDatagrams\n",
      "0.00 udpIgnoreMulti_Diff\n",
      "0.00 (device=sdb)disk.io.write_bytes_Diff\n",
      "0.00 (device=sdb)disk.io.read_bytes_Diff\n",
      "  PR@1    PR@2    PR@3    PR@4    PR@5    PR@6    PR@7    PR@8    PR@9    PR@10    PR@Avg     Acc\n",
      "------  ------  ------  ------  ------  ------  ------  ------  ------  -------  --------  ------\n",
      "0.0000  0.0000  0.3333  0.5000  0.6000  0.6000  0.6000  0.8000  1.0000   1.0000    0.5433  0.9754\n",
      "Total: 153.3393 DyCause: 119.0443, Graph: 0.1509, Cond: 34.0683, RCA: 0.0759\n"
     ]
    }
   ],
   "source": [
    "# step=30,lag=7,sign=0.05,p_thr=0.7000000000000001,\n",
    "params = {\n",
    "    'mean_method': 'arithmetic',\n",
    "    'topk_path':400,\n",
    "    'prob_thres':0.6,\n",
    "    'num_sel_node':5,\n",
    "    'out_of_path_nodes': True\n",
    "}\n",
    "exp_ret['filtered_mat'] = meth_imp.cond_test_filtering(exp_ret['mat'], exp_ret['candidates'], exp_ret['corr_res_cond_shuffled'], 0.7, lambda x, p: x > p)\n",
    "tic = time.time()\n",
    "ranked_nodes, ranked_paths, prks, acc = case_rca_backtrace(\n",
    "    exp_ret['filtered_mat'], entry, root_causes, filtered_df, **params)\n",
    "toc = time.time() - tic\n",
    "exp_ret['time_info']['RCA'] = toc\n",
    "exp_ana.print_ranked_paths(ranked_paths[:10], columns_by_case['case7'])\n",
    "exp_ana.print_ranked_nodes(ranked_nodes, columns_by_case['case7'])\n",
    "print_prk_acc(prks, acc)\n",
    "print(\"Total: {:.4f}\".format(sum(exp_ret['time_info'].values())), \n",
    "          ', '.join([f'{k}: {v:.4f}' for k, v in exp_ret['time_info'].items()]))"
   ]
  },
  {
   "cell_type": "code",
   "execution_count": 38,
   "metadata": {
    "ExecuteTime": {
     "end_time": "2022-10-17T03:24:29.726230Z",
     "start_time": "2022-10-17T03:24:28.352589Z"
    },
    "code_folding": []
   },
   "outputs": [
    {
     "data": {
      "image/png": "[encoded data removed]",
      "text/plain": [
       "<Figure size 720x720 with 1 Axes>"
      ]
     },
     "metadata": {},
     "output_type": "display_data"
    }
   ],
   "source": [
    "r = gd.plot_graph_networkx_igraphlayout(\n",
    "    exp_ret['filtered_mat'],\n",
    "    color_info_by_case['case7'][1],\n",
    "    layout_meth=\"freingold\",\n",
    "    # savename=os.path.join(plot_out_dir, f\"best_mat_freingold.svg\")\n",
    ")"
   ]
  }
 ],
 "metadata": {
  "kernelspec": {
   "display_name": "effcause-env",
   "language": "python",
   "name": "effcause-env"
  },
  "language_info": {
   "codemirror_mode": {
    "name": "ipython",
    "version": 3
   },
   "file_extension": ".py",
   "mimetype": "text/x-python",
   "name": "python",
   "nbconvert_exporter": "python",
   "pygments_lexer": "ipython3",
   "version": "3.7.5"
  },
  "toc": {
   "base_numbering": 1,
   "nav_menu": {
    "height": "500px",
    "width": "383px"
   },
   "number_sections": true,
   "sideBar": true,
   "skip_h1_title": false,
   "title_cell": "Table of Contents",
   "title_sidebar": "Contents",
   "toc_cell": false,
   "toc_position": {
    "height": "569.7px",
    "left": "68.2px",
    "top": "110.325px",
    "width": "294px"
   },
   "toc_section_display": true,
   "toc_window_display": false
  }
 },
 "nbformat": 4,
 "nbformat_minor": 4
}